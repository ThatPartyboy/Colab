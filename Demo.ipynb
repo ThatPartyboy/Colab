{
  "nbformat": 4,
  "nbformat_minor": 0,
  "metadata": {
    "colab": {
      "provenance": [],
      "authorship_tag": "ABX9TyNZt7l+11HjVkqQC3xygxch",
      "include_colab_link": true
    },
    "kernelspec": {
      "name": "python3",
      "display_name": "Python 3"
    },
    "language_info": {
      "name": "python"
    },
    "accelerator": "GPU",
    "gpuClass": "standard"
  },
  "cells": [
    {
      "cell_type": "markdown",
      "metadata": {
        "id": "view-in-github",
        "colab_type": "text"
      },
      "source": [
        "<a href=\"https://colab.research.google.com/github/ThatPartyboy/Colab/blob/main/Demo.ipynb\" target=\"_parent\"><img src=\"https://colab.research.google.com/assets/colab-badge.svg\" alt=\"Open In Colab\"/></a>"
      ]
    },
    {
      "cell_type": "code",
      "execution_count": null,
      "metadata": {
        "colab": {
          "base_uri": "https://localhost:8080/"
        },
        "id": "UwNe3FDmNQZT",
        "outputId": "ea156663-8402-40f2-815e-d16a1c6b053a"
      },
      "outputs": [
        {
          "output_type": "stream",
          "name": "stdout",
          "text": [
            "86400\n"
          ]
        }
      ],
      "source": [
        "seconds_in_a_day = 24*60*60\n",
        "print(seconds_in_a_day)"
      ]
    },
    {
      "cell_type": "code",
      "source": [
        "seconds_in_a_week = 7* seconds_in_a_day\n",
        "print(seconds_in_a_week)"
      ],
      "metadata": {
        "colab": {
          "base_uri": "https://localhost:8080/"
        },
        "id": "7HAnrc6SOO-b",
        "outputId": "d9d981a3-72f7-45ed-b888-d12f772c5d89"
      },
      "execution_count": null,
      "outputs": [
        {
          "output_type": "stream",
          "name": "stdout",
          "text": [
            "604800\n"
          ]
        }
      ]
    }
  ]
}